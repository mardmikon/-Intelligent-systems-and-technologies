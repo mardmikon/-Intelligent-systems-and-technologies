{
  "nbformat": 4,
  "nbformat_minor": 0,
  "metadata": {
    "colab": {
      "name": "Untitled3.ipynb",
      "provenance": [],
      "collapsed_sections": [],
      "authorship_tag": "ABX9TyM4p+is+uJFIq9aSU6jaHr3",
      "include_colab_link": true
    },
    "kernelspec": {
      "name": "python3",
      "display_name": "Python 3"
    },
    "language_info": {
      "name": "python"
    }
  },
  "cells": [
    {
      "cell_type": "markdown",
      "metadata": {
        "id": "view-in-github",
        "colab_type": "text"
      },
      "source": [
        "<a href=\"https://colab.research.google.com/github/mardmikon/-Intelligent-systems-and-technologies/blob/main/%D0%97%D0%B0%D0%B4%D0%B0%D0%BD%D0%B8%D0%B5%207-8.ipynb\" target=\"_parent\"><img src=\"https://colab.research.google.com/assets/colab-badge.svg\" alt=\"Open In Colab\"/></a>"
      ]
    },
    {
      "cell_type": "markdown",
      "metadata": {
        "id": "BmAuB0_J7vyf"
      },
      "source": [
        "# **Задание 7-8**"
      ]
    },
    {
      "cell_type": "code",
      "metadata": {
        "id": "AOeJHiwQ7yRw"
      },
      "source": [
        "import pandas as pd\n",
        "import numpy as np\n",
        "import seaborn as sns\n",
        "from sklearn.preprocessing import StandardScaler\n",
        "from sklearn.model_selection import train_test_split\n",
        "from sklearn.metrics import accuracy_score, recall_score, precision_score, f1_score\n",
        "from sklearn.svm import SVC\n",
        "from imblearn.over_sampling import SMOTE\n",
        "import time\n",
        "import matplotlib.pyplot as plt\n",
        "from sklearn.neighbors import KNeighborsClassifier\n",
        "from sklearn.ensemble import RandomForestClassifier\n",
        "from sklearn.manifold import TSNE\n",
        "import seaborn as sns\n",
        "\n",
        "data_headers = [\"word_freq_make\", \"word_freq_address\", \"word_freq_all\", \"word_freq_3d\", \"word_freq_our\", \"word_freq_over\", \"word_freq_remove\", \"word_freq_internet\", \"word_freq_order\", \"word_freq_mail\", \"word_freq_receive\",\n",
        "                \"word_freq_will\", \"word_freq_people\", \"word_freq_report\", \"word_freq_addresses\", \"word_freq_free\", \"word_freq_business\", \"word_freq_email\", \"word_freq_you\", \"word_freq_credit\", \"word_freq_your\", \"word_freq_font\",\n",
        "                \"word_freq_000\", \"word_freq_money\", \"word_freq_hp\", \"word_freq_hpl\", \"word_freq_george\", \"word_freq_650\", \"word_freq_lab\", \"word_freq_labs\", \"word_freq_telnet\", \"word_freq_857\", \"word_freq_data\",\n",
        "                \"word_freq_415\", \"word_freq_85\", \"word_freq_technology\", \"word_freq_1999\", \"word_freq_parts\", \"word_freq_pm\", \"word_freq_direct\", \"word_freq_cs\", \"word_freq_meeting\", \"word_freq_original\", \"word_freq_project\",\n",
        "                \"word_freq_re\", \"word_freq_edu\", \"word_freq_table\", \"word_freq_conference\", \"char_freq_;\", \"char_freq_(\", \"char_freq_[\", \"char_freq_!\", \"char_freq_$\", \"char_freq_#\", \"capital_run_length_average\", \"capital_run_length_longest\",\"capital_run_length_total\"]\n",
        "data = pd.read_csv('spambase.data', names=data_headers)\n",
        "\n",
        "_standartScaller = StandardScaler()\n",
        "data_x = data.iloc[:,1:-1]\n",
        "data_x = _standartScaller.fit_transform(data_x)\n",
        "data_y = data.iloc[:,-1:]\n",
        "\n",
        "_smote = SMOTE()\n",
        "data_x, data_y = _smote.fit_resample(data_x, data_y)\n",
        "\n",
        "x_train, x_test, y_train, y_test = train_test_split(data.iloc[:,1:-1],\n",
        "                                                    data.iloc[:,-1],\n",
        "                                                    test_size=0.3,\n",
        "                                                    shuffle=True,\n",
        "                                                    stratify=data.iloc[:,-1],\n",
        "                                                    random_state=200)\n",
        "\n",
        "x_train_res, x_test_res, y_train_res, y_test_res = train_test_split(data_x,\n",
        "                                                                    data_y,\n",
        "                                                                    test_size=0.3,\n",
        "                                                                    shuffle=True,\n",
        "                                                                    stratify=data_y,\n",
        "                                                                    random_state=200)"
      ],
      "execution_count": 94,
      "outputs": []
    },
    {
      "cell_type": "markdown",
      "metadata": {
        "id": "WvLNFgZw9ggV"
      },
      "source": [
        "# **SVM-классификатор**"
      ]
    },
    {
      "cell_type": "markdown",
      "metadata": {
        "id": "7fAX9_xJ98OR"
      },
      "source": [
        "**Перед балансировкой**"
      ]
    },
    {
      "cell_type": "code",
      "metadata": {
        "id": "vaXBwq558hfD"
      },
      "source": [
        "_SVM = SVC()\n",
        "timeSVMStart= time.time()\n",
        "_SVM.fit(x_train, y_train)\n",
        "timeSVMStop = time.time()\n",
        "timeSVM = timeSVMStop-timeSVMStart\n",
        "y_train_pred = _SVM.predict(x_train)\n",
        "y_test_pred = _SVM.predict(x_test)"
      ],
      "execution_count": 51,
      "outputs": []
    },
    {
      "cell_type": "markdown",
      "metadata": {
        "id": "XYCD5pED-S87"
      },
      "source": [
        "Обучающая выборка"
      ]
    },
    {
      "cell_type": "code",
      "metadata": {
        "colab": {
          "base_uri": "https://localhost:8080/"
        },
        "id": "0nQVXfM1-alh",
        "outputId": "6a7bb96c-e42c-41e6-ace9-15372bc20484"
      },
      "source": [
        "svmAccuracyTrain = accuracy_score(y_train, y_train_pred)\n",
        "print(f\"Accuracy: {accuracy_score(y_train, y_train_pred)}, \" \n",
        "      f\"Recall: {recall_score(y_train, y_train_pred, average='weighted')}, \" \n",
        "      f\"Precision: {f1_score(y_train, y_train_pred, average='weighted')}\")"
      ],
      "execution_count": 52,
      "outputs": [
        {
          "output_type": "stream",
          "name": "stdout",
          "text": [
            "Accuracy: 0.7027950310559006, Recall: 0.7027950310559006, Precision: 0.6853993997376457\n"
          ]
        }
      ]
    },
    {
      "cell_type": "markdown",
      "metadata": {
        "id": "sNd6FZfH-m_E"
      },
      "source": [
        "Тестовая выборка"
      ]
    },
    {
      "cell_type": "code",
      "metadata": {
        "colab": {
          "base_uri": "https://localhost:8080/"
        },
        "id": "iZ3dRZtl-eta",
        "outputId": "67f62c40-4370-43fa-9b9e-a3c2c9f4d95d"
      },
      "source": [
        "svmAccuracyTest = accuracy_score(y_test, y_test_pred)\n",
        "print(f\"Accuracy: {accuracy_score(y_test, y_test_pred)}, \"\n",
        "      f\"Recall: {recall_score(y_test, y_test_pred, average='weighted')}, \"\n",
        "      f\"Precision: {f1_score(y_test, y_test_pred, average='weighted')}\")"
      ],
      "execution_count": 53,
      "outputs": [
        {
          "output_type": "stream",
          "name": "stdout",
          "text": [
            "Accuracy: 0.7038377986965967, Recall: 0.7038377986965967, Precision: 0.6845056647079052\n"
          ]
        }
      ]
    },
    {
      "cell_type": "markdown",
      "metadata": {
        "id": "0KfoqSvR-qOx"
      },
      "source": [
        "**После балансировки**"
      ]
    },
    {
      "cell_type": "code",
      "metadata": {
        "colab": {
          "base_uri": "https://localhost:8080/"
        },
        "id": "dS9LEqN4-1ai",
        "outputId": "5909619e-301a-4d5b-890e-2ce7d898a980"
      },
      "source": [
        "_SVM.fit(x_train_res, y_train_res)\n",
        "y_train_res_pred = _SVM.predict(x_train_res)\n",
        "y_test_res_pred = _SVM.predict(x_test_res)"
      ],
      "execution_count": 54,
      "outputs": [
        {
          "output_type": "stream",
          "name": "stderr",
          "text": [
            "/usr/local/lib/python3.7/dist-packages/sklearn/utils/validation.py:985: DataConversionWarning: A column-vector y was passed when a 1d array was expected. Please change the shape of y to (n_samples, ), for example using ravel().\n",
            "  y = column_or_1d(y, warn=True)\n"
          ]
        }
      ]
    },
    {
      "cell_type": "markdown",
      "metadata": {
        "id": "iAS9HePD_Ao1"
      },
      "source": [
        "Обучающая выборка"
      ]
    },
    {
      "cell_type": "code",
      "metadata": {
        "colab": {
          "base_uri": "https://localhost:8080/"
        },
        "id": "14dn_rHu_BYs",
        "outputId": "99cbe2e9-a884-4698-ab38-7709f54054aa"
      },
      "source": [
        "svmAccuracyTrainRes = accuracy_score(y_train_res, y_train_res_pred)\n",
        "print(f\"Accuracy: {accuracy_score(y_train_res, y_train_res_pred)}, \" \n",
        "      f\"Recall: {recall_score(y_train_res, y_train_res_pred, average='weighted')}, \" \n",
        "      f\"Precision: {f1_score(y_train_res, y_train_res_pred, average='weighted')}\")"
      ],
      "execution_count": 55,
      "outputs": [
        {
          "output_type": "stream",
          "name": "stdout",
          "text": [
            "Accuracy: 0.943376889572124, Recall: 0.943376889572124, Precision: 0.9433681457839532\n"
          ]
        }
      ]
    },
    {
      "cell_type": "markdown",
      "metadata": {
        "id": "z91YrWrQ_By-"
      },
      "source": [
        "Тестовая выборка"
      ]
    },
    {
      "cell_type": "code",
      "metadata": {
        "colab": {
          "base_uri": "https://localhost:8080/"
        },
        "id": "30n70Wka_Cvs",
        "outputId": "97f9dc61-0e57-48eb-8536-bef14d091716"
      },
      "source": [
        "svmAccuracyTestRes = accuracy_score(y_test_res, y_test_res_pred)\n",
        "print(f\"Accuracy: {accuracy_score(y_test_res, y_test_res_pred)}, \" \n",
        "      f\"Recall: {recall_score(y_test_res, y_test_res_pred, average='weighted')}, \" \n",
        "      f\"Precision: {f1_score(y_test_res, y_test_res_pred, average='weighted')}\")"
      ],
      "execution_count": 56,
      "outputs": [
        {
          "output_type": "stream",
          "name": "stdout",
          "text": [
            "Accuracy: 0.9390316796174537, Recall: 0.9390316796174537, Precision: 0.9390206554714726\n"
          ]
        }
      ]
    },
    {
      "cell_type": "markdown",
      "metadata": {
        "id": "HLQHVWEt_pgL"
      },
      "source": [
        "**Сравнение**"
      ]
    },
    {
      "cell_type": "code",
      "metadata": {
        "colab": {
          "base_uri": "https://localhost:8080/",
          "height": 282
        },
        "id": "9oL8KiUR_sHt",
        "outputId": "2ef38f24-d568-459a-ccfa-11e67226b06f"
      },
      "source": [
        "compare_data = [svmAccuracyTrain, svmAccuracyTest, svmAccuracyTrainRes, svmAccuracyTestRes]\n",
        "axis = ['Train', 'Test', 'Balanced Train', 'Balanced Test']\n",
        "plt.bar(axis, compare_data, color=['blue', 'blue', 'black', 'black'])"
      ],
      "execution_count": 57,
      "outputs": [
        {
          "output_type": "execute_result",
          "data": {
            "text/plain": [
              "<BarContainer object of 4 artists>"
            ]
          },
          "metadata": {},
          "execution_count": 57
        },
        {
          "output_type": "display_data",
          "data": {
            "image/png": "[encoded data removed]",
            "text/plain": [
              "<Figure size 432x288 with 1 Axes>"
            ]
          },
          "metadata": {
            "needs_background": "light"
          }
        }
      ]
    },
    {
      "cell_type": "markdown",
      "metadata": {
        "id": "FSzNyu4GAvHy"
      },
      "source": [
        "# **KNN-классификатор**"
      ]
    },
    {
      "cell_type": "markdown",
      "metadata": {
        "id": "n79iO9cGCvi-"
      },
      "source": [
        "**Перед балансировкой**"
      ]
    },
    {
      "cell_type": "code",
      "metadata": {
        "id": "GEzq8VAnBFXx"
      },
      "source": [
        "_KNN = KNeighborsClassifier()\n",
        "timeKNNStart= time.time()\n",
        "_KNN.fit(x_train, y_train)\n",
        "timeKNNStop = time.time()\n",
        "timeKNN = timeKNNStop-timeKNNStart\n",
        "y_train_pred = _KNN.predict(x_train)\n",
        "y_test_pred = _KNN.predict(x_test)"
      ],
      "execution_count": 58,
      "outputs": []
    },
    {
      "cell_type": "markdown",
      "metadata": {
        "id": "nyOa2DkSC1Fl"
      },
      "source": [
        "Обучающая выборка"
      ]
    },
    {
      "cell_type": "code",
      "metadata": {
        "colab": {
          "base_uri": "https://localhost:8080/"
        },
        "id": "04yfOVt0C3yI",
        "outputId": "65f432a5-b853-4a52-faca-e0cf3ec639fa"
      },
      "source": [
        "knnAccuracyTrain = accuracy_score(y_train, y_train_pred)\n",
        "print(f\"Accuracy: {accuracy_score(y_train, y_train_pred)}, \" \n",
        "      f\"Recall: {recall_score(y_train, y_train_pred, average='weighted')}, \" \n",
        "      f\"Precision: {f1_score(y_train, y_train_pred, average='weighted')}\")"
      ],
      "execution_count": 59,
      "outputs": [
        {
          "output_type": "stream",
          "name": "stdout",
          "text": [
            "Accuracy: 0.8649068322981367, Recall: 0.8649068322981367, Precision: 0.8648975140328501\n"
          ]
        }
      ]
    },
    {
      "cell_type": "markdown",
      "metadata": {
        "id": "DGFbCez4C9fA"
      },
      "source": [
        "Тестовая выборка"
      ]
    },
    {
      "cell_type": "code",
      "metadata": {
        "colab": {
          "base_uri": "https://localhost:8080/"
        },
        "id": "Hm_s6v-UC-94",
        "outputId": "99a55e10-ead5-4d09-dded-f14e3b7c6868"
      },
      "source": [
        "knnAccuracyTest = accuracy_score(y_test, y_test_pred)\n",
        "print(f\"Accuracy: {accuracy_score(y_test, y_test_pred)}, \"\n",
        "      f\"Recall: {recall_score(y_test, y_test_pred, average='weighted')}, \"\n",
        "      f\"Precision: {f1_score(y_test, y_test_pred, average='weighted')}\")"
      ],
      "execution_count": 60,
      "outputs": [
        {
          "output_type": "stream",
          "name": "stdout",
          "text": [
            "Accuracy: 0.8102824040550326, Recall: 0.8102824040550326, Precision: 0.8097646725603139\n"
          ]
        }
      ]
    },
    {
      "cell_type": "markdown",
      "metadata": {
        "id": "fP2DpUUODAU4"
      },
      "source": [
        "**После балансировки**"
      ]
    },
    {
      "cell_type": "code",
      "metadata": {
        "colab": {
          "base_uri": "https://localhost:8080/"
        },
        "id": "panEPnZiDCuK",
        "outputId": "91366c5a-b249-4c8b-e412-24beb8ed10a9"
      },
      "source": [
        "_KNN.fit(x_train_res, y_train_res)\n",
        "y_train_res_pred = _KNN.predict(x_train_res)\n",
        "y_test_res_pred = _KNN.predict(x_test_res)"
      ],
      "execution_count": 61,
      "outputs": [
        {
          "output_type": "stream",
          "name": "stderr",
          "text": [
            "/usr/local/lib/python3.7/dist-packages/sklearn/neighbors/_classification.py:198: DataConversionWarning: A column-vector y was passed when a 1d array was expected. Please change the shape of y to (n_samples,), for example using ravel().\n",
            "  return self._fit(X, y)\n"
          ]
        }
      ]
    },
    {
      "cell_type": "markdown",
      "metadata": {
        "id": "ddLWKywpDTCY"
      },
      "source": [
        "Обучающая выборка"
      ]
    },
    {
      "cell_type": "code",
      "metadata": {
        "colab": {
          "base_uri": "https://localhost:8080/"
        },
        "id": "Et4xW6t1DTm1",
        "outputId": "c9efb32a-c133-4b4a-924b-bb3828c8e60e"
      },
      "source": [
        "knnAccuracyTrainRes = accuracy_score(y_train_res, y_train_res_pred)\n",
        "print(f\"Accuracy: {accuracy_score(y_train_res, y_train_res_pred)}, \" \n",
        "      f\"Recall: {recall_score(y_train_res, y_train_res_pred, average='weighted')}, \" \n",
        "      f\"Precision: {f1_score(y_train_res, y_train_res_pred, average='weighted')}\")"
      ],
      "execution_count": 62,
      "outputs": [
        {
          "output_type": "stream",
          "name": "stdout",
          "text": [
            "Accuracy: 0.9438893159108378, Recall: 0.9438893159108378, Precision: 0.9438810049115174\n"
          ]
        }
      ]
    },
    {
      "cell_type": "markdown",
      "metadata": {
        "id": "IxfSyyPVDVmh"
      },
      "source": [
        "Тестовая выборка"
      ]
    },
    {
      "cell_type": "code",
      "metadata": {
        "colab": {
          "base_uri": "https://localhost:8080/"
        },
        "id": "F1YlCD2-DXBI",
        "outputId": "6f53c7e0-7cf0-4801-b83c-a21808d0f63a"
      },
      "source": [
        "knnAccuracyTestRes = accuracy_score(y_test_res, y_test_res_pred)\n",
        "print(f\"Accuracy: {accuracy_score(y_test_res, y_test_res_pred)}, \"\n",
        "      f\"Recall: {recall_score(y_test_res, y_test_res_pred, average='weighted')}, \"\n",
        "      f\"Precision: {f1_score(y_test_res, y_test_res_pred, average='weighted')}\")"
      ],
      "execution_count": 63,
      "outputs": [
        {
          "output_type": "stream",
          "name": "stdout",
          "text": [
            "Accuracy: 0.917513448894202, Recall: 0.917513448894202, Precision: 0.9174719927356728\n"
          ]
        }
      ]
    },
    {
      "cell_type": "markdown",
      "metadata": {
        "id": "4PE9QeQqDoR4"
      },
      "source": [
        "**Сравнение**"
      ]
    },
    {
      "cell_type": "code",
      "metadata": {
        "colab": {
          "base_uri": "https://localhost:8080/",
          "height": 282
        },
        "id": "hCC06vbLDrOl",
        "outputId": "ce3fc675-3803-4ffc-951b-d510338ffb09"
      },
      "source": [
        "compare_data = [knnAccuracyTrain, knnAccuracyTest, knnAccuracyTrainRes, knnAccuracyTestRes]\n",
        "axis = ['Train', 'Test', 'Balanced Train', 'Balanced Test']\n",
        "plt.bar(axis, compare_data, color=['blue', 'blue', 'black', 'black'])"
      ],
      "execution_count": 64,
      "outputs": [
        {
          "output_type": "execute_result",
          "data": {
            "text/plain": [
              "<BarContainer object of 4 artists>"
            ]
          },
          "metadata": {},
          "execution_count": 64
        },
        {
          "output_type": "display_data",
          "data": {
            "image/png": "[encoded data removed]",
            "text/plain": [
              "<Figure size 432x288 with 1 Axes>"
            ]
          },
          "metadata": {
            "needs_background": "light"
          }
        }
      ]
    },
    {
      "cell_type": "markdown",
      "metadata": {
        "id": "gN9HL42OENcF"
      },
      "source": [
        "# **RF-классификатор**"
      ]
    },
    {
      "cell_type": "markdown",
      "metadata": {
        "id": "ON9yx2VmETQn"
      },
      "source": [
        "**Перед балансировкой**"
      ]
    },
    {
      "cell_type": "code",
      "metadata": {
        "id": "oZkULLcsEUcI"
      },
      "source": [
        "_RF = RandomForestClassifier()\n",
        "timeRFStart= time.time()\n",
        "_RF.fit(x_train, y_train)\n",
        "timeRFStop = time.time()\n",
        "timeRF = timeRFStop-timeRFStart\n",
        "y_train_pred = _RF.predict(x_train)\n",
        "y_test_pred = _RF.predict(x_test)"
      ],
      "execution_count": 65,
      "outputs": []
    },
    {
      "cell_type": "markdown",
      "metadata": {
        "id": "StCweLwXEcRv"
      },
      "source": [
        "Обучающая выборка"
      ]
    },
    {
      "cell_type": "code",
      "metadata": {
        "colab": {
          "base_uri": "https://localhost:8080/"
        },
        "id": "kqawRKooEczl",
        "outputId": "d1b5ee24-5ffe-4e11-bc55-891be14bdc7a"
      },
      "source": [
        "rfAccuracyTrain = accuracy_score(y_train, y_train_pred)\n",
        "print(f\"Accuracy: {accuracy_score(y_train, y_train_pred)}, \" \n",
        "      f\"Recall: {recall_score(y_train, y_train_pred, average='weighted')}, \" \n",
        "      f\"Precision: {f1_score(y_train, y_train_pred, average='weighted')}\")"
      ],
      "execution_count": 66,
      "outputs": [
        {
          "output_type": "stream",
          "name": "stdout",
          "text": [
            "Accuracy: 0.9996894409937889, Recall: 0.9996894409937889, Precision: 0.9996894623464785\n"
          ]
        }
      ]
    },
    {
      "cell_type": "markdown",
      "metadata": {
        "id": "23AIBKoiEfJ5"
      },
      "source": [
        "Тестовая выборка"
      ]
    },
    {
      "cell_type": "code",
      "metadata": {
        "colab": {
          "base_uri": "https://localhost:8080/"
        },
        "id": "EIb8J4ZHEhEt",
        "outputId": "1582c6e3-6f72-4269-c927-bb695ec40418"
      },
      "source": [
        "rfAccuracyTest = accuracy_score(y_test, y_test_pred)\n",
        "print(f\"Accuracy: {accuracy_score(y_test, y_test_pred)}, \"\n",
        "      f\"Recall: {recall_score(y_test, y_test_pred, average='weighted')}, \"\n",
        "      f\"Precision: {f1_score(y_test, y_test_pred, average='weighted')}\")"
      ],
      "execution_count": 67,
      "outputs": [
        {
          "output_type": "stream",
          "name": "stdout",
          "text": [
            "Accuracy: 0.945691527878349, Recall: 0.945691527878349, Precision: 0.9454935200294909\n"
          ]
        }
      ]
    },
    {
      "cell_type": "markdown",
      "metadata": {
        "id": "p05Jc3MkEkPv"
      },
      "source": [
        "**После балансировки**"
      ]
    },
    {
      "cell_type": "code",
      "metadata": {
        "colab": {
          "base_uri": "https://localhost:8080/"
        },
        "id": "mQdLVSdtEj0Q",
        "outputId": "0698a7ab-a843-4f36-94d2-72a28445da2b"
      },
      "source": [
        "_RF.fit(x_train_res, y_train_res)\n",
        "y_train_res_pred = _RF.predict(x_train_res)\n",
        "y_test_res_pred = _RF.predict(x_test_res)"
      ],
      "execution_count": 68,
      "outputs": [
        {
          "output_type": "stream",
          "name": "stderr",
          "text": [
            "/usr/local/lib/python3.7/dist-packages/ipykernel_launcher.py:1: DataConversionWarning: A column-vector y was passed when a 1d array was expected. Please change the shape of y to (n_samples,), for example using ravel().\n",
            "  \"\"\"Entry point for launching an IPython kernel.\n"
          ]
        }
      ]
    },
    {
      "cell_type": "markdown",
      "metadata": {
        "id": "Hs4wjyCDFDxV"
      },
      "source": [
        "Обучающая выборка"
      ]
    },
    {
      "cell_type": "code",
      "metadata": {
        "colab": {
          "base_uri": "https://localhost:8080/"
        },
        "id": "2j5nWu0HFHQZ",
        "outputId": "03fed374-b6da-4a74-fcf9-28ea7bd31ee4"
      },
      "source": [
        "rfAccuracyTrainRes = accuracy_score(y_train_res, y_train_res_pred)\n",
        "print(f\"Accuracy: {accuracy_score(y_train_res, y_train_res_pred)}, \" \n",
        "      f\"Recall: {recall_score(y_train_res, y_train_res_pred, average='weighted')}, \" \n",
        "      f\"Precision: {f1_score(y_train_res, y_train_res_pred, average='weighted')}\")"
      ],
      "execution_count": 69,
      "outputs": [
        {
          "output_type": "stream",
          "name": "stdout",
          "text": [
            "Accuracy: 0.9997437868306431, Recall: 0.9997437868306431, Precision: 0.9997437868306431\n"
          ]
        }
      ]
    },
    {
      "cell_type": "markdown",
      "metadata": {
        "id": "lawIG9P8FWV6"
      },
      "source": [
        "Тестовая выборка"
      ]
    },
    {
      "cell_type": "code",
      "metadata": {
        "colab": {
          "base_uri": "https://localhost:8080/"
        },
        "id": "QXkVmQEoFXvR",
        "outputId": "31599e2f-d9ab-4ef4-d1e3-79c3a0b9cf02"
      },
      "source": [
        "rfAccuracyTestRes = accuracy_score(y_test_res, y_test_res_pred)\n",
        "print(f\"Accuracy: {accuracy_score(y_test_res, y_test_res_pred)}, \"\n",
        "      f\"Recall: {recall_score(y_test_res, y_test_res_pred, average='weighted')}, \"\n",
        "      f\"Precision: {f1_score(y_test_res, y_test_res_pred, average='weighted')}\")"
      ],
      "execution_count": 70,
      "outputs": [
        {
          "output_type": "stream",
          "name": "stdout",
          "text": [
            "Accuracy: 0.9611476389719068, Recall: 0.9611476389719068, Precision: 0.9611463896235212\n"
          ]
        }
      ]
    },
    {
      "cell_type": "markdown",
      "metadata": {
        "id": "KbmFw1AYFfF_"
      },
      "source": [
        "**Сравнение**"
      ]
    },
    {
      "cell_type": "code",
      "metadata": {
        "colab": {
          "base_uri": "https://localhost:8080/",
          "height": 282
        },
        "id": "FIkKtsSUFf1F",
        "outputId": "65c9da90-a53c-4cd4-c9e0-bd9e030d4f8b"
      },
      "source": [
        "compare_data = [rfAccuracyTrain, rfAccuracyTest, rfAccuracyTrainRes, rfAccuracyTestRes]\n",
        "axis = ['Train', 'Test', 'Balanced Train', 'Balanced Test']\n",
        "plt.bar(axis, compare_data, color=['blue', 'blue', 'black', 'black'])"
      ],
      "execution_count": 71,
      "outputs": [
        {
          "output_type": "execute_result",
          "data": {
            "text/plain": [
              "<BarContainer object of 4 artists>"
            ]
          },
          "metadata": {},
          "execution_count": 71
        },
        {
          "output_type": "display_data",
          "data": {
            "image/png": "[encoded data removed]",
            "text/plain": [
              "<Figure size 432x288 with 1 Axes>"
            ]
          },
          "metadata": {
            "needs_background": "light"
          }
        }
      ]
    },
    {
      "cell_type": "markdown",
      "metadata": {
        "id": "iAzTFCJwFxCq"
      },
      "source": [
        "# **Визуализация**"
      ]
    },
    {
      "cell_type": "markdown",
      "metadata": {
        "id": "clUwQAJXF1Ma"
      },
      "source": [
        "**Перед балансировкой**"
      ]
    },
    {
      "cell_type": "code",
      "metadata": {
        "colab": {
          "base_uri": "https://localhost:8080/"
        },
        "id": "pOLqaMJ-F5q8",
        "outputId": "c36da68e-f6d9-4107-c4e8-05225767d16e"
      },
      "source": [
        "tsne = TSNE(init='random', perplexity=10).fit_transform(data.iloc[:,1:-1])"
      ],
      "execution_count": 112,
      "outputs": [
        {
          "output_type": "stream",
          "name": "stderr",
          "text": [
            "/usr/local/lib/python3.7/dist-packages/sklearn/manifold/_t_sne.py:793: FutureWarning: The default learning rate in TSNE will change from 200.0 to 'auto' in 1.2.\n",
            "  FutureWarning,\n"
          ]
        }
      ]
    },
    {
      "cell_type": "code",
      "metadata": {
        "colab": {
          "base_uri": "https://localhost:8080/",
          "height": 312
        },
        "id": "wAHfsCalGB4d",
        "outputId": "9e9c4784-5d94-4c55-f024-7042e59dd4d1"
      },
      "source": [
        "df = pd.DataFrame()\n",
        "df[\"y\"] = data.iloc[:,-1]\n",
        "df[\"comp-1\"] = tsne[:,0]\n",
        "df[\"comp-2\"] = tsne[:,1]\n",
        "sns.scatterplot(x=\"comp-1\", y=\"comp-2\", hue=df.y.tolist(),\n",
        "                data=df).set(title=\"Data T-SNE projection\") "
      ],
      "execution_count": 113,
      "outputs": [
        {
          "output_type": "execute_result",
          "data": {
            "text/plain": [
              "[Text(0.5, 1.0, 'Data T-SNE projection')]"
            ]
          },
          "metadata": {},
          "execution_count": 113
        },
        {
          "output_type": "display_data",
          "data": {
            "image/png": "[encoded data removed]",
            "text/plain": [
              "<Figure size 432x288 with 1 Axes>"
            ]
          },
          "metadata": {
            "needs_background": "light"
          }
        }
      ]
    },
    {
      "cell_type": "markdown",
      "metadata": {
        "id": "2TYpW-b-GGIQ"
      },
      "source": [
        "**После балансировки**"
      ]
    },
    {
      "cell_type": "code",
      "metadata": {
        "colab": {
          "base_uri": "https://localhost:8080/"
        },
        "id": "9BdMHd5JGD1q",
        "outputId": "41daa62a-059b-434a-9013-039b997c23ba"
      },
      "source": [
        "tsne_res = TSNE(init='random', perplexity=10).fit_transform(data_x)"
      ],
      "execution_count": 114,
      "outputs": [
        {
          "output_type": "stream",
          "name": "stderr",
          "text": [
            "/usr/local/lib/python3.7/dist-packages/sklearn/manifold/_t_sne.py:793: FutureWarning: The default learning rate in TSNE will change from 200.0 to 'auto' in 1.2.\n",
            "  FutureWarning,\n"
          ]
        }
      ]
    },
    {
      "cell_type": "code",
      "metadata": {
        "colab": {
          "base_uri": "https://localhost:8080/",
          "height": 312
        },
        "id": "tg7qRb-_GIa8",
        "outputId": "09208217-c4d8-4870-cc0f-ff715b5372ed"
      },
      "source": [
        "df_res = pd.DataFrame()\n",
        "df_res['y'] = data_y.all\n",
        "df_res[\"comp-1\"] = tsne_res[:,0]\n",
        "df_res[\"comp-2\"] = tsne_res[:,1]\n",
        "sns.scatterplot(x=\"comp-1\", y=\"comp-2\", hue=df_res.y.tolist(),\n",
        "                data=df_res).set(title=\"Data T-SNE projection\") "
      ],
      "execution_count": 142,
      "outputs": [
        {
          "output_type": "execute_result",
          "data": {
            "text/plain": [
              "[Text(0.5, 1.0, 'Data T-SNE projection')]"
            ]
          },
          "metadata": {},
          "execution_count": 142
        },
        {
          "output_type": "display_data",
          "data": {
            "image/png": "[encoded data removed]",
            "text/plain": [
              "<Figure size 432x288 with 1 Axes>"
            ]
          },
          "metadata": {
            "needs_background": "light"
          }
        }
      ]
    },
    {
      "cell_type": "markdown",
      "metadata": {
        "id": "CC4aRQrKIwwq"
      },
      "source": [
        "# **Сравнение классификаторов**"
      ]
    },
    {
      "cell_type": "markdown",
      "metadata": {
        "id": "hD-F5XvrIzVG"
      },
      "source": [
        "**По времени**"
      ]
    },
    {
      "cell_type": "code",
      "metadata": {
        "colab": {
          "base_uri": "https://localhost:8080/",
          "height": 334
        },
        "id": "MrzS6dQ4I2S8",
        "outputId": "408dd326-f409-4f14-8515-bb63941f93a1"
      },
      "source": [
        "timeData = [timeSVM, timeKNN, timeRF]\n",
        "axis = ['SVM', 'KNN', 'RF']\n",
        "plt.bar(axis, timeData)\n",
        "print(f\"Elapsed time in seconds\\nSVM: {timeSVM}\\nKNN: {timeKNN}\\nRF: {timeRF}\")"
      ],
      "execution_count": 81,
      "outputs": [
        {
          "output_type": "stream",
          "name": "stdout",
          "text": [
            "Elapsed time in seconds\n",
            "SVM: 0.6407647132873535\n",
            "KNN: 0.007927179336547852\n",
            "RF: 0.5955111980438232\n"
          ]
        },
        {
          "output_type": "display_data",
          "data": {
            "image/png": "[encoded data removed]",
            "text/plain": [
              "<Figure size 432x288 with 1 Axes>"
            ]
          },
          "metadata": {
            "needs_background": "light"
          }
        }
      ]
    },
    {
      "cell_type": "markdown",
      "metadata": {
        "id": "IwLTZUrrJCgd"
      },
      "source": [
        "**По точности**"
      ]
    },
    {
      "cell_type": "markdown",
      "metadata": {
        "id": "FHM0AxMTJDjZ"
      },
      "source": [
        "Обучающая выборка перед балансировкой\n"
      ]
    },
    {
      "cell_type": "code",
      "metadata": {
        "colab": {
          "base_uri": "https://localhost:8080/",
          "height": 334
        },
        "id": "lMDcSMOAJJ_o",
        "outputId": "a29ef15b-75e4-4d3d-ac4f-947dd7fadc43"
      },
      "source": [
        "accuracyDataTrain = [svmAccuracyTrain, knnAccuracyTrain, rfAccuracyTrain]\n",
        "axis = ['SVM', 'KNN', 'RF']\n",
        "plt.bar(axis, accuracyDataTrain)\n",
        "print(f\"Train accuracy\\nSVM: {svmAccuracyTrain}\\nKNN: {knnAccuracyTrain}\\nRF: {rfAccuracyTrain}\")"
      ],
      "execution_count": 82,
      "outputs": [
        {
          "output_type": "stream",
          "name": "stdout",
          "text": [
            "Train accuracy\n",
            "SVM: 0.7027950310559006\n",
            "KNN: 0.8649068322981367\n",
            "RF: 0.9996894409937889\n"
          ]
        },
        {
          "output_type": "display_data",
          "data": {
            "image/png": "[encoded data removed]",
            "text/plain": [
              "<Figure size 432x288 with 1 Axes>"
            ]
          },
          "metadata": {
            "needs_background": "light"
          }
        }
      ]
    },
    {
      "cell_type": "markdown",
      "metadata": {
        "id": "xN1CeWTtJlX_"
      },
      "source": [
        "Тестовая выборка перед балансировкой"
      ]
    },
    {
      "cell_type": "code",
      "metadata": {
        "colab": {
          "base_uri": "https://localhost:8080/",
          "height": 334
        },
        "id": "CT83oT3eJnyI",
        "outputId": "f0b72f94-8fcd-44fe-bc20-149552b57946"
      },
      "source": [
        "accuracyDataTest = [svmAccuracyTest, knnAccuracyTest, rfAccuracyTest]\n",
        "axis = ['SVM', 'KNN', 'RF']\n",
        "plt.bar(axis, accuracyDataTest)\n",
        "print(f\"Test accuracy\\nSVM: {svmAccuracyTest}\\nKNN: {knnAccuracyTest}\\nRF: {rfAccuracyTest}\")"
      ],
      "execution_count": 83,
      "outputs": [
        {
          "output_type": "stream",
          "name": "stdout",
          "text": [
            "Test accuracy\n",
            "SVM: 0.7038377986965967\n",
            "KNN: 0.8102824040550326\n",
            "RF: 0.945691527878349\n"
          ]
        },
        {
          "output_type": "display_data",
          "data": {
            "image/png": "[encoded data removed]",
            "text/plain": [
              "<Figure size 432x288 with 1 Axes>"
            ]
          },
          "metadata": {
            "needs_background": "light"
          }
        }
      ]
    },
    {
      "cell_type": "markdown",
      "metadata": {
        "id": "24udZOXOJySc"
      },
      "source": [
        "Обучающая выборка после балансировки"
      ]
    },
    {
      "cell_type": "code",
      "metadata": {
        "colab": {
          "base_uri": "https://localhost:8080/",
          "height": 334
        },
        "id": "1mAsGHFDJ4LG",
        "outputId": "4bc9f479-fcf4-4641-910b-bd86891caa3d"
      },
      "source": [
        "accuracyDataTrainRes = [svmAccuracyTrainRes, knnAccuracyTrainRes, rfAccuracyTrainRes]\n",
        "axis = ['SVM', 'KNN', 'RF']\n",
        "plt.bar(axis, accuracyDataTrainRes)\n",
        "print(f\"Train accuracy\\nSVM: {svmAccuracyTrainRes}\\nKNN: {knnAccuracyTrainRes}\\nRF: {rfAccuracyTrainRes}\")"
      ],
      "execution_count": 86,
      "outputs": [
        {
          "output_type": "stream",
          "name": "stdout",
          "text": [
            "Train accuracy\n",
            "SVM: 0.943376889572124\n",
            "KNN: 0.9438893159108378\n",
            "RF: 0.9997437868306431\n"
          ]
        },
        {
          "output_type": "display_data",
          "data": {
            "image/png": "[encoded data removed]",
            "text/plain": [
              "<Figure size 432x288 with 1 Axes>"
            ]
          },
          "metadata": {
            "needs_background": "light"
          }
        }
      ]
    },
    {
      "cell_type": "markdown",
      "metadata": {
        "id": "quht30ayJ05l"
      },
      "source": [
        "Тестовая выборка после балансировки"
      ]
    },
    {
      "cell_type": "code",
      "metadata": {
        "colab": {
          "base_uri": "https://localhost:8080/",
          "height": 336
        },
        "id": "mAg2G_WpKC-1",
        "outputId": "f4581cc2-93b0-4963-9b0c-3f42b97e551f"
      },
      "source": [
        "accuracyDataTestRes = [svmAccuracyTestRes, knnAccuracyTestRes, rfAccuracyTestRes]\n",
        "axis = ['SVM', 'KNN', 'RF']\n",
        "plt.bar(axis, accuracyDataTestRes)\n",
        "print(f\"Test accuracy\\nSVM: {svmAccuracyTestRes}\\nKNN: {knnAccuracyTestRes}\\nRF: {rfAccuracyTestRes}\")"
      ],
      "execution_count": 87,
      "outputs": [
        {
          "output_type": "stream",
          "name": "stdout",
          "text": [
            "Test accuracy\n",
            "SVM: 0.9390316796174537\n",
            "KNN: 0.917513448894202\n",
            "RF: 0.9611476389719068\n"
          ]
        },
        {
          "output_type": "display_data",
          "data": {
            "image/png": "[encoded data removed]",
            "text/plain": [
              "<Figure size 432x288 with 1 Axes>"
            ]
          },
          "metadata": {
            "needs_background": "light"
          }
        }
      ]
    },
    {
      "cell_type": "markdown",
      "metadata": {
        "id": "XdB7UIaHKd_G"
      },
      "source": [
        "# **ИТОГ:** лучший классификатор по времени - KNN, по точности - RF"
      ]
    }
  ]
}